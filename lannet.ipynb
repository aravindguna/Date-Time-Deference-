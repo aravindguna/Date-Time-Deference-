{
  "nbformat": 4,
  "nbformat_minor": 0,
  "metadata": {
    "kernelspec": {
      "display_name": "Python 3",
      "language": "python",
      "name": "python3"
    },
    "language_info": {
      "codemirror_mode": {
        "name": "ipython",
        "version": 3
      },
      "file_extension": ".py",
      "mimetype": "text/x-python",
      "name": "python",
      "nbconvert_exporter": "python",
      "pygments_lexer": "ipython3",
      "version": "3.7.6"
    },
    "colab": {
      "name": "lannet.ipynb",
      "provenance": [],
      "include_colab_link": true
    }
  },
  "cells": [
    {
      "cell_type": "markdown",
      "metadata": {
        "id": "view-in-github",
        "colab_type": "text"
      },
      "source": [
        "<a href=\"https://colab.research.google.com/github/aravindguna/lannet-/blob/master/lannet.ipynb\" target=\"_parent\"><img src=\"https://colab.research.google.com/assets/colab-badge.svg\" alt=\"Open In Colab\"/></a>"
      ]
    },
    {
      "cell_type": "markdown",
      "metadata": {
        "id": "dBUT6PzBD9IA",
        "colab_type": "text"
      },
      "source": [
        "#code to find the difference of given combination of datetime "
      ]
    },
    {
      "cell_type": "code",
      "metadata": {
        "id": "fwsZuktZD9IB",
        "colab_type": "code",
        "colab": {}
      },
      "source": [
        "import pandas as pd #pandas data frame\n",
        "url = 'https://raw.githubusercontent.com/aravindguna/lannet-/master/olist_orders_dataset.csv'\n",
        "dataset = pd.read_csv(url)"
      ],
      "execution_count": 1,
      "outputs": []
    },
    {
      "cell_type": "code",
      "metadata": {
        "id": "UmtZPxtdD9IE",
        "colab_type": "code",
        "colab": {}
      },
      "source": [
        "#functon for converting the datetime in object type to datetime format\n",
        "def datatype_conversion(data):\n",
        "    for i in data.columns:\n",
        "        try:\n",
        "            data[i]= pd.to_datetime(data[i],dayfirst=True)   #conversion of object to datetime dtypes     \n",
        "        except:                                              \n",
        "            continue #to continue the loob when loop encounter non datetime dtypes"
      ],
      "execution_count": 2,
      "outputs": []
    },
    {
      "cell_type": "code",
      "metadata": {
        "id": "BlY2RmhED9II",
        "colab_type": "code",
        "colab": {}
      },
      "source": [
        "#conversion of different date time formats to single standared date time format\n",
        "def format_conversion(data):\n",
        "    for i in data.columns:\n",
        "        if data[i].dtype == \"datetime64[ns]\":\n",
        "            data[i] = data[i].dt.strftime('%d/%m/%Y %H:%M:%S') "
      ],
      "execution_count": 3,
      "outputs": []
    },
    {
      "cell_type": "code",
      "metadata": {
        "id": "8XnEGu-sD9IK",
        "colab_type": "code",
        "colab": {}
      },
      "source": [
        "#to determine number of datetime coloumns in given dataset\n",
        "def number_of_columns(data):\n",
        "    l=[]\n",
        "    for i in data.columns:\n",
        "        if data[i].dtype == \"<M8[ns]\":\n",
        "            l.append(i)\n",
        "    return len(l),l   "
      ],
      "execution_count": 4,
      "outputs": []
    },
    {
      "cell_type": "code",
      "metadata": {
        "id": "Qm4Y2NFJD9IM",
        "colab_type": "code",
        "colab": {}
      },
      "source": [
        "#to find the number of different difference combination can be found in the given data set\n",
        "def get_combinations(values,length):\n",
        "    from itertools import combinations \n",
        "    comb = combinations(values,length)\n",
        "    final = []\n",
        "    for i in comb:\n",
        "        final.append(i)\n",
        "    return final"
      ],
      "execution_count": 5,
      "outputs": []
    },
    {
      "cell_type": "code",
      "metadata": {
        "id": "HCHEBokuD9IO",
        "colab_type": "code",
        "colab": {}
      },
      "source": [
        "dataset = dataset.dropna() #dropping missing values in dataset\n",
        "dataset = dataset.reset_index(drop=True) #index resetting  to avoid missing index"
      ],
      "execution_count": 6,
      "outputs": []
    },
    {
      "cell_type": "code",
      "metadata": {
        "id": "vDLtQL8iD9IR",
        "colab_type": "code",
        "colab": {}
      },
      "source": [
        "datatype_conversion(dataset)\n",
        "format_conversion(dataset)\n",
        "datatype_conversion(dataset)\n",
        "output = list(number_of_columns(dataset))\n",
        "output1 = get_combinations(output[1],output[0]-1)\n",
        "final = list(range(1,len(output1)+1)) #creating list to determine number of variable names\n",
        "for i,r in zip(output1,final): #zippig of two variable to run loop simultaneously\n",
        "    dataset[\"date\"+str(r)] =abs(dataset[i[1]] -  dataset[i[0]]) #absoulus function to avoid negative values"
      ],
      "execution_count": 7,
      "outputs": []
    },
    {
      "cell_type": "code",
      "metadata": {
        "id": "lMd11TbvD9IT",
        "colab_type": "code",
        "colab": {
          "base_uri": "https://localhost:8080/",
          "height": 590
        },
        "outputId": "a50c97c7-c905-4379-80d4-fb68ad0aed1e"
      },
      "source": [
        "dataset"
      ],
      "execution_count": 8,
      "outputs": [
        {
          "output_type": "execute_result",
          "data": {
            "text/html": [
              "<div>\n",
              "<style scoped>\n",
              "    .dataframe tbody tr th:only-of-type {\n",
              "        vertical-align: middle;\n",
              "    }\n",
              "\n",
              "    .dataframe tbody tr th {\n",
              "        vertical-align: top;\n",
              "    }\n",
              "\n",
              "    .dataframe thead th {\n",
              "        text-align: right;\n",
              "    }\n",
              "</style>\n",
              "<table border=\"1\" class=\"dataframe\">\n",
              "  <thead>\n",
              "    <tr style=\"text-align: right;\">\n",
              "      <th></th>\n",
              "      <th>order_id</th>\n",
              "      <th>customer_id</th>\n",
              "      <th>order_status</th>\n",
              "      <th>order_approved_at</th>\n",
              "      <th>order_estimated_delivery_date</th>\n",
              "      <th>order_delivered_customer_date</th>\n",
              "      <th>date1</th>\n",
              "      <th>date2</th>\n",
              "      <th>date3</th>\n",
              "    </tr>\n",
              "  </thead>\n",
              "  <tbody>\n",
              "    <tr>\n",
              "      <th>0</th>\n",
              "      <td>e481f51cbdc54678b7cc49136f2d6af7</td>\n",
              "      <td>9ef432eb6251297304e76186b10a928d</td>\n",
              "      <td>delivered</td>\n",
              "      <td>2017-10-02 11:07:00</td>\n",
              "      <td>2017-10-18</td>\n",
              "      <td>2017-10-10 21:25:00</td>\n",
              "      <td>15 days 12:53:00</td>\n",
              "      <td>8 days 10:18:00</td>\n",
              "      <td>7 days 02:35:00</td>\n",
              "    </tr>\n",
              "    <tr>\n",
              "      <th>1</th>\n",
              "      <td>53cdb2fc8bc7dce0b6741e2150273451</td>\n",
              "      <td>b0830fb4747a6c6d20dea0b8c802d7ef</td>\n",
              "      <td>delivered</td>\n",
              "      <td>2018-07-26 03:24:00</td>\n",
              "      <td>2018-08-13</td>\n",
              "      <td>2018-08-07 15:27:00</td>\n",
              "      <td>17 days 20:36:00</td>\n",
              "      <td>12 days 12:03:00</td>\n",
              "      <td>5 days 08:33:00</td>\n",
              "    </tr>\n",
              "    <tr>\n",
              "      <th>2</th>\n",
              "      <td>47770eb9100c2d0c44946d9cf07ec65d</td>\n",
              "      <td>41ce2a54c0b03bf3443c3d931a367089</td>\n",
              "      <td>delivered</td>\n",
              "      <td>2018-08-08 08:55:00</td>\n",
              "      <td>2018-09-04</td>\n",
              "      <td>2018-08-17 18:06:00</td>\n",
              "      <td>26 days 15:05:00</td>\n",
              "      <td>9 days 09:11:00</td>\n",
              "      <td>17 days 05:54:00</td>\n",
              "    </tr>\n",
              "    <tr>\n",
              "      <th>3</th>\n",
              "      <td>949d5b44dbf5de918fe9c16f97b45f8a</td>\n",
              "      <td>f88197465ea7920adcdbec7375364d82</td>\n",
              "      <td>delivered</td>\n",
              "      <td>2017-11-18 19:45:00</td>\n",
              "      <td>2017-12-15</td>\n",
              "      <td>2017-12-02 00:28:00</td>\n",
              "      <td>26 days 04:15:00</td>\n",
              "      <td>13 days 04:43:00</td>\n",
              "      <td>12 days 23:32:00</td>\n",
              "    </tr>\n",
              "    <tr>\n",
              "      <th>4</th>\n",
              "      <td>ad21c59c0840e6cb83a9ceb5573f8159</td>\n",
              "      <td>8ab97904e6daea8866dbdbc4fb7aad2c</td>\n",
              "      <td>delivered</td>\n",
              "      <td>2018-02-13 22:20:00</td>\n",
              "      <td>2018-02-26</td>\n",
              "      <td>2018-02-16 18:17:00</td>\n",
              "      <td>12 days 01:40:00</td>\n",
              "      <td>2 days 19:57:00</td>\n",
              "      <td>9 days 05:43:00</td>\n",
              "    </tr>\n",
              "    <tr>\n",
              "      <th>...</th>\n",
              "      <td>...</td>\n",
              "      <td>...</td>\n",
              "      <td>...</td>\n",
              "      <td>...</td>\n",
              "      <td>...</td>\n",
              "      <td>...</td>\n",
              "      <td>...</td>\n",
              "      <td>...</td>\n",
              "      <td>...</td>\n",
              "    </tr>\n",
              "    <tr>\n",
              "      <th>19422</th>\n",
              "      <td>c2ec4601c71af45d10781c0d50d98d63</td>\n",
              "      <td>475e7eabe4398e4bc39730cc7d5285a1</td>\n",
              "      <td>delivered</td>\n",
              "      <td>2017-09-23 21:05:00</td>\n",
              "      <td>2017-10-17</td>\n",
              "      <td>2017-10-06 19:33:00</td>\n",
              "      <td>23 days 02:55:00</td>\n",
              "      <td>12 days 22:28:00</td>\n",
              "      <td>10 days 04:27:00</td>\n",
              "    </tr>\n",
              "    <tr>\n",
              "      <th>19423</th>\n",
              "      <td>c977e225ec57bdeb592c91bacf0f2897</td>\n",
              "      <td>1baccb2aaff20dbf456eef75d7b87b93</td>\n",
              "      <td>delivered</td>\n",
              "      <td>2017-09-16 03:04:00</td>\n",
              "      <td>2017-09-27</td>\n",
              "      <td>2017-09-19 17:23:00</td>\n",
              "      <td>10 days 20:56:00</td>\n",
              "      <td>3 days 14:19:00</td>\n",
              "      <td>7 days 06:37:00</td>\n",
              "    </tr>\n",
              "    <tr>\n",
              "      <th>19424</th>\n",
              "      <td>4a39a614e7c288237aa03883c20965db</td>\n",
              "      <td>e7272207671135423f7d023f6a388500</td>\n",
              "      <td>delivered</td>\n",
              "      <td>2018-06-25 19:13:00</td>\n",
              "      <td>2018-07-17</td>\n",
              "      <td>2018-07-03 18:34:00</td>\n",
              "      <td>21 days 04:47:00</td>\n",
              "      <td>7 days 23:21:00</td>\n",
              "      <td>13 days 05:26:00</td>\n",
              "    </tr>\n",
              "    <tr>\n",
              "      <th>19425</th>\n",
              "      <td>7729e4f24027d10a411f2ca08df03327</td>\n",
              "      <td>094deb5213c87322748379ec26ebd971</td>\n",
              "      <td>delivered</td>\n",
              "      <td>2017-07-13 21:24:00</td>\n",
              "      <td>2017-08-02</td>\n",
              "      <td>2017-07-20 14:35:00</td>\n",
              "      <td>19 days 02:36:00</td>\n",
              "      <td>6 days 17:11:00</td>\n",
              "      <td>12 days 09:25:00</td>\n",
              "    </tr>\n",
              "    <tr>\n",
              "      <th>19426</th>\n",
              "      <td>a60ea8fd020bfa5f5bf961965d429930</td>\n",
              "      <td>63437202780cea8a0d79dc2bb0803241</td>\n",
              "      <td>delivered</td>\n",
              "      <td>2017-08-29 22:10:00</td>\n",
              "      <td>2017-09-25</td>\n",
              "      <td>2017-09-11 13:10:00</td>\n",
              "      <td>26 days 01:50:00</td>\n",
              "      <td>12 days 15:00:00</td>\n",
              "      <td>13 days 10:50:00</td>\n",
              "    </tr>\n",
              "  </tbody>\n",
              "</table>\n",
              "<p>19427 rows × 9 columns</p>\n",
              "</div>"
            ],
            "text/plain": [
              "                               order_id  ...            date3\n",
              "0      e481f51cbdc54678b7cc49136f2d6af7  ...  7 days 02:35:00\n",
              "1      53cdb2fc8bc7dce0b6741e2150273451  ...  5 days 08:33:00\n",
              "2      47770eb9100c2d0c44946d9cf07ec65d  ... 17 days 05:54:00\n",
              "3      949d5b44dbf5de918fe9c16f97b45f8a  ... 12 days 23:32:00\n",
              "4      ad21c59c0840e6cb83a9ceb5573f8159  ...  9 days 05:43:00\n",
              "...                                 ...  ...              ...\n",
              "19422  c2ec4601c71af45d10781c0d50d98d63  ... 10 days 04:27:00\n",
              "19423  c977e225ec57bdeb592c91bacf0f2897  ...  7 days 06:37:00\n",
              "19424  4a39a614e7c288237aa03883c20965db  ... 13 days 05:26:00\n",
              "19425  7729e4f24027d10a411f2ca08df03327  ... 12 days 09:25:00\n",
              "19426  a60ea8fd020bfa5f5bf961965d429930  ... 13 days 10:50:00\n",
              "\n",
              "[19427 rows x 9 columns]"
            ]
          },
          "metadata": {
            "tags": []
          },
          "execution_count": 8
        }
      ]
    }
  ]
}